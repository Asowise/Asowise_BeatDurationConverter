{
  "nbformat": 4,
  "nbformat_minor": 0,
  "metadata": {
    "colab": {
      "provenance": [],
      "authorship_tag": "ABX9TyO9N+a6Zng88VqEmLPai4+N",
      "include_colab_link": true
    },
    "kernelspec": {
      "name": "python3",
      "display_name": "Python 3"
    },
    "language_info": {
      "name": "python"
    }
  },
  "cells": [
    {
      "cell_type": "markdown",
      "metadata": {
        "id": "view-in-github",
        "colab_type": "text"
      },
      "source": [
        "<a href=\"https://colab.research.google.com/github/Asowise/Asowise_BeatDurationConverter/blob/main/Asowise_Beat_Duration_Converter_%F0%9F%95%92.ipynb\" target=\"_parent\"><img src=\"https://colab.research.google.com/assets/colab-badge.svg\" alt=\"Open In Colab\"/></a>"
      ]
    },
    {
      "cell_type": "code",
      "execution_count": 1,
      "metadata": {
        "colab": {
          "base_uri": "https://localhost:8080/"
        },
        "id": "4a5WqhGwpeT4",
        "outputId": "7574864e-9702-462e-b9ba-e9597df6c54f"
      },
      "outputs": [
        {
          "output_type": "stream",
          "name": "stdout",
          "text": [
            "Enter beat duration in seconds: 400\n",
            "Enter BPM of the beat: 90\n",
            "⏱ Duration: 6:40\n",
            "🎵 Total beats: 600.0\n",
            "🎶 Total bars (4/4): 150\n"
          ]
        }
      ],
      "source": [
        "# Step 1: Duration input\n",
        "duration_sec = int(input(\"Enter beat duration in seconds: \"))\n",
        "\n",
        "# Step 2: BPM input\n",
        "bpm = int(input(\"Enter BPM of the beat: \"))\n",
        "\n",
        "# Step 3: Calculate total beats\n",
        "total_beats = (duration_sec / 60) * bpm\n",
        "\n",
        "# Step 4: Calculate total bars\n",
        "total_bars = int(total_beats / 4)\n",
        "\n",
        "# Step 5: Format duration as minutes:seconds\n",
        "minutes = duration_sec // 60\n",
        "seconds = duration_sec % 60\n",
        "\n",
        "# Step 6: Print results\n",
        "print(\"⏱ Duration:\", f\"{minutes}:{seconds:02d}\")\n",
        "print(\"🎵 Total beats:\", total_beats)\n",
        "print(\"🎶 Total bars (4/4):\", total_bars)"
      ]
    }
  ]
}